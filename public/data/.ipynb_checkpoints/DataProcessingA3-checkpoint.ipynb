{
 "cells": [
  {
   "cell_type": "code",
   "execution_count": 1,
   "id": "8f5ecaf3-13d3-4a8d-90b5-3b308c32e46a",
   "metadata": {},
   "outputs": [
    {
     "name": "stdout",
     "output_type": "stream",
     "text": [
      "Processed data saved to kr.csv\n"
     ]
    }
   ],
   "source": [
    "import pandas as pd\n",
    "import os\n",
    "import glob\n",
    "import csv \n",
    "\n",
    "country_code = \"hk\" \n",
    "\n",
    "file_pattern = f\"regional-{country_code}-weekly-*.csv\"\n",
    "files = glob.glob(file_pattern)\n",
    "\n",
    "df_list = []\n",
    "\n",
    "for file in files:\n",
    "    filename = os.path.basename(file)\n",
    "    parts = filename.split('-')\n",
    "    year = int(parts[3])  \n",
    "    month = int(parts[4]) \n",
    "\n",
    "    df = pd.read_csv(file, quotechar='\"', skipinitialspace=True)\n",
    "\n",
    "    if 'rank' in df.columns:\n",
    "        top_5_df = df.nsmallest(5, 'rank').copy()\n",
    "\n",
    "    \n",
    "        def clean_text(value):\n",
    "            if isinstance(value, str):\n",
    "                value = value.strip('\"').strip(\"'\").strip()  \n",
    "                value = value.replace(',', ' / ') \n",
    "            return value\n",
    "\n",
    "        if 'track_name' in top_5_df.columns:\n",
    "            top_5_df['track_name'] = top_5_df['track_name'].apply(clean_text)\n",
    "        if 'artist_names' in top_5_df.columns:\n",
    "            top_5_df['artist_names'] = top_5_df['artist_names'].apply(clean_text)\n",
    "\n",
    "        top_5_df['month'] = month\n",
    "        top_5_df['year'] = year\n",
    "\n",
    "        df_list.append(top_5_df)\n",
    "\n",
    "if df_list:\n",
    "    final_df = pd.concat(df_list, ignore_index=True)\n",
    "\n",
    "    final_df = final_df.sort_values(by=['year', 'month'], ascending=[True, True])\n",
    "\n",
    "    output_file = f\"{country_code}.csv\"\n",
    "    final_df.to_csv(output_file, index=False, quoting=csv.QUOTE_MINIMAL)  # Prevent excessive quotes\n",
    "\n",
    "    print(f\"Processed data saved to {output_file}\")\n",
    "else:\n",
    "    print(\"No data processed.\")\n"
   ]
  },
  {
   "cell_type": "code",
   "execution_count": null,
   "id": "af2fa3b9-7c5c-4a4a-a6de-f94861f92a7e",
   "metadata": {},
   "outputs": [],
   "source": []
  },
  {
   "cell_type": "code",
   "execution_count": null,
   "id": "534117f4-e3a4-4a6c-b531-b47ed7c3d4f0",
   "metadata": {},
   "outputs": [],
   "source": []
  },
  {
   "cell_type": "code",
   "execution_count": null,
   "id": "69ce22c1-2db6-4116-b13c-010f119b8104",
   "metadata": {},
   "outputs": [],
   "source": []
  }
 ],
 "metadata": {
  "kernelspec": {
   "display_name": "Python [conda env:base] *",
   "language": "python",
   "name": "conda-base-py"
  },
  "language_info": {
   "codemirror_mode": {
    "name": "ipython",
    "version": 3
   },
   "file_extension": ".py",
   "mimetype": "text/x-python",
   "name": "python",
   "nbconvert_exporter": "python",
   "pygments_lexer": "ipython3",
   "version": "3.12.7"
  }
 },
 "nbformat": 4,
 "nbformat_minor": 5
}
